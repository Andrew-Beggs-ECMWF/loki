{
 "cells": [
  {
   "cell_type": "markdown",
   "id": "0d5eece6",
   "metadata": {},
   "source": [
    "# Creating new visitors"
   ]
  },
  {
   "cell_type": "markdown",
   "id": "a9be749c",
   "metadata": {},
   "source": [
    "In the previous notebook, we relied heavily on the [`FindNodes`](https://sites.ecmwf.int/docs/loki/master/loki.visitors.find.html#loki.visitors.find.FindNodes) visitor, which looks through a given IR tree and returns a list of matching instances of a specified [`Node`](https://sites.ecmwf.int/docs/loki/master/loki.ir.html#loki.ir.Node) type. Although this functionality is sufficient for most use cases, there may be scenarios that require the implementation of bespoke visitors.\n",
    "\n",
    "For node types that could appear in a nested structure, for example [`Loop`](https://sites.ecmwf.int/docs/loki/master/loki.ir.html#loki.ir.Loop) or [`Conditional`](https://sites.ecmwf.int/docs/loki/master/loki.ir.html#loki.ir.Conditional), we may be interested in knowing at what depth they appear in a given IR tree. The following illustrates how this can be achieved by building a new `FindNodesDepth` visitor based on `FindNodes`."
   ]
  },
  {
   "cell_type": "markdown",
   "id": "46d23c1e",
   "metadata": {},
   "source": [
    "## Dataclass to store return values"
   ]
  },
  {
   "cell_type": "markdown",
   "id": "045d405d",
   "metadata": {},
   "source": [
    "The default return value for `FindNodes` is a list of nodes. For `FindNodesDepth`, we would also like to return the depth of the node. We can create a new dataclass (essentially a c-style struct) called `DepthNode` to store both these pieces of information:"
   ]
  },
  {
   "cell_type": "code",
   "execution_count": 1,
   "id": "3066f44a",
   "metadata": {},
   "outputs": [],
   "source": [
    "from loki import Node\n",
    "from dataclasses import dataclass\n",
    "\n",
    "@dataclass\n",
    "class DepthNode:\n",
    "    node: Node\n",
    "    depth: int"
   ]
  },
  {
   "cell_type": "markdown",
   "id": "6155e5df",
   "metadata": {},
   "source": [
    "## Modifying initialization method"
   ]
  },
  {
   "cell_type": "markdown",
   "id": "d4c489f3",
   "metadata": {},
   "source": [
    "`FindNodes` has two operating modes. The first (and default mode) is to look through a given IR tree and return a list of matching instances of a specified node type. The second, which is enabled by passing `mode='scope'` when creating the visitor, returns the [`InternalNode`](https://sites.ecmwf.int/docs/loki/master/loki.ir.html#loki.ir.InternalNode) i.e. the [`Scope`](https://sites.ecmwf.int/docs/loki/master/loki.scope.html#loki.scope.Scope) in which a specified node appears.\n",
    "\n",
    "For our new visitor, we are only interested in the default operating mode of `FindNodes`. Therefore let us define a new initialization function for our `FindNodesDepth` class:"
   ]
  },
  {
   "cell_type": "code",
   "execution_count": 2,
   "id": "baecbc0c",
   "metadata": {},
   "outputs": [],
   "source": [
    "from loki import FindNodes\n",
    "\n",
    "class FindNodesDepth(FindNodes):\n",
    "    def __init__(self, match, greedy=False):\n",
    "        super().__init__(match, mode='type', greedy=greedy)"
   ]
  },
  {
   "cell_type": "markdown",
   "id": "7e03cfc3",
   "metadata": {},
   "source": [
    "## Modifying the `visit_Node` method"
   ]
  },
  {
   "cell_type": "markdown",
   "id": "8bac24a7",
   "metadata": {},
   "source": [
    "In order to achieve the desired functionality of our new visitor, we will need a new `visit_Node` method. We start from a copy of `FindNodes.visit_Node` and make only a few changes to it:"
   ]
  },
  {
   "cell_type": "code",
   "execution_count": 3,
   "id": "a5d9a2ce",
   "metadata": {},
   "outputs": [],
   "source": [
    "class FindNodesDepth(FindNodes):\n",
    "    def __init__(self, match, greedy=False):\n",
    "        super().__init__(match, mode='type', greedy=greedy)\n",
    "        \n",
    "    def visit_Node(self, o, **kwargs):\n",
    "        ret = kwargs.pop('ret', self.default_retval())\n",
    "        depth = kwargs.pop('depth', 0)\n",
    "        if self.rule(self.match, o): \n",
    "            ret.append(DepthNode(o, depth))\n",
    "            if self.greedy:\n",
    "                return ret \n",
    "        for i in o.children:\n",
    "            ret = self.visit(i, depth=depth+1, ret=ret, **kwargs)\n",
    "        return ret or self.default_retval()"
   ]
  },
  {
   "cell_type": "markdown",
   "id": "876099cb",
   "metadata": {},
   "source": [
    "The first change to `visit_Node` is the addition of a line that sets `depth`. If `visit_Node` is called from the base IR tree, then `depth` is initialized to 0. If on the other hand `visit_Node` is called recursively, then the current `depth` of node `o` is retrieved. The second and final change is the addition of a `depth` keyword argument to the recursive call to `visit` for the children of node `o`. As recursion signifies moving down one level in the IR tree, the `depth+1` is passed as an argument.\n",
    "\n",
    "Having now fully defined our new visitor, we can test it on the following routine containing nested loops:"
   ]
  },
  {
   "cell_type": "code",
   "execution_count": 4,
   "id": "11b9ea84",
   "metadata": {},
   "outputs": [
    {
     "name": "stdout",
     "output_type": "stream",
     "text": [
      "\n",
      "DO k=1,n\n",
      "  DO j=1,n\n",
      "    DO i=1,n\n",
      "      var_out(i, j, k) = var_in(i, j, k)\n",
      "    END DO\n",
      "    DO i=1,n\n",
      "      var_out(i, j, k) = 2._JPRB*var_out(i, j, k)\n",
      "    END DO\n",
      "  END DO\n",
      "  \n",
      "  CALL some_kernel(n, var_out(1, 1, k))\n",
      "  \n",
      "  DO j=1,n\n",
      "    DO i=1,n\n",
      "      var_out(i, j, k) = var_out(i, j, k) + 1._JPRB\n",
      "    END DO\n",
      "    DO i=1,n\n",
      "      var_out(i, j, k) = 2._JPRB*var_out(i, j, k)\n",
      "    END DO\n",
      "  END DO\n",
      "END DO\n",
      "\n"
     ]
    }
   ],
   "source": [
    "from loki import Sourcefile\n",
    "from loki import fgen\n",
    "\n",
    "source = Sourcefile.from_file('src/loop_fuse.F90')\n",
    "routine = source['loop_fuse_v1']\n",
    "print(fgen(routine.body))"
   ]
  },
  {
   "cell_type": "markdown",
   "id": "e2747561",
   "metadata": {},
   "source": [
    "`loop_fuse_v1` contains a total of 7 loops, with a maximum nesting depth of 3. Let us see if our new visitor can identify the loops and their depth correctly:"
   ]
  },
  {
   "cell_type": "code",
   "execution_count": 5,
   "id": "e6918817",
   "metadata": {},
   "outputs": [
    {
     "name": "stdout",
     "output_type": "stream",
     "text": [
      "0 Loop:: k=1:n 1\n",
      "1 Loop:: j=1:n 2\n",
      "2 Loop:: i=1:n 3\n",
      "3 Loop:: i=1:n 3\n",
      "4 Loop:: j=1:n 2\n",
      "5 Loop:: i=1:n 3\n",
      "6 Loop:: i=1:n 3\n"
     ]
    }
   ],
   "source": [
    "from loki import Loop\n",
    "\n",
    "loops = FindNodesDepth(Loop).visit(routine.body)\n",
    "\n",
    "for k, loop in enumerate(loops):\n",
    "    print(k, loop.node, loop.depth)\n",
    "    \n",
    "depth = [1, 2, 3, 3, 2, 3, 3]\n",
    "assert(depth == [loop.depth for loop in loops])"
   ]
  },
  {
   "cell_type": "markdown",
   "id": "66da4269",
   "metadata": {},
   "source": [
    "As the output shows, the depth of all 7 loops was identified correctly. Note that the subroutine body itself is assigned a depth of 0, and because the outermost `k`-loop is a child of the subroutine body, it has a depth of 1.\n",
    "\n",
    "We can also use our new visitor to find the depth of the [`Assignment`](https://sites.ecmwf.int/docs/loki/master/loki.ir.html#loki.ir.Assignment) statements within the bodies of the loops:"
   ]
  },
  {
   "cell_type": "code",
   "execution_count": 6,
   "id": "daa003ec",
   "metadata": {},
   "outputs": [
    {
     "name": "stdout",
     "output_type": "stream",
     "text": [
      "0 Assignment:: var_out(i, j, k) = var_in(i, j, k)             4\n",
      "1 Assignment:: var_out(i, j, k) = 2._JPRB*var_out(i, j, k)    4\n",
      "2 Assignment:: var_out(i, j, k) = var_out(i, j, k) + 1._JPRB  4\n",
      "3 Assignment:: var_out(i, j, k) = 2._JPRB*var_out(i, j, k)    4\n"
     ]
    }
   ],
   "source": [
    "from loki import Assignment\n",
    "\n",
    "assigns = FindNodesDepth(Assignment).visit(routine.body)\n",
    "\n",
    "for k, assign in enumerate(assigns):\n",
    "    print(f'{k} {str(assign.node):<60}{assign.depth}')\n",
    "    \n",
    "depth = [4, 4, 4, 4]\n",
    "assert(depth == [assign.depth for assign in assigns])"
   ]
  },
  {
   "cell_type": "markdown",
   "id": "2c41107d",
   "metadata": {},
   "source": [
    "All the `Assignment` statements and their respective depths are identified correctly. We can do a similar test on nested `if` statements:"
   ]
  },
  {
   "cell_type": "code",
   "execution_count": 7,
   "id": "3d19dd1a",
   "metadata": {},
   "outputs": [
    {
     "name": "stdout",
     "output_type": "stream",
     "text": [
      "0 i 1\n",
      "1 j 2\n",
      "2 k 3\n",
      "3 h 3\n"
     ]
    }
   ],
   "source": [
    "from loki import Subroutine\n",
    "from loki import Conditional\n",
    "\n",
    "fcode = \"\"\" \n",
    "subroutine nested_conditionals(i,j,k,h)\n",
    "    \n",
    "    logical,intent(in) :: i,j,k,h\n",
    "\n",
    "    if(i)then\n",
    "      if(j)then\n",
    "\n",
    "        if(k)then\n",
    "          ! do something\n",
    "        else\n",
    "          ! do something else\n",
    "        endif\n",
    "        \n",
    "        if(h)then\n",
    "          ! also test h\n",
    "        endif\n",
    "\n",
    "      endif\n",
    "    endif\n",
    "\n",
    "end subroutine nested_conditionals\n",
    "\"\"\"\n",
    "\n",
    "routine = Subroutine.from_source(fcode)\n",
    "\n",
    "conds = FindNodesDepth(Conditional).visit(routine.body)\n",
    "for k, cond in enumerate(conds):\n",
    "    print(k, cond.node.condition, cond.depth)\n",
    "    \n",
    "depth = [1, 2, 3, 3]\n",
    "assert(depth == [cond.depth for cond in conds])"
   ]
  }
 ],
 "metadata": {
  "kernelspec": {
   "display_name": "Python 3",
   "language": "python",
   "name": "python3"
  },
  "language_info": {
   "codemirror_mode": {
    "name": "ipython",
    "version": 3
   },
   "file_extension": ".py",
   "mimetype": "text/x-python",
   "name": "python",
   "nbconvert_exporter": "python",
   "pygments_lexer": "ipython3",
   "version": "3.9.13"
  }
 },
 "nbformat": 4,
 "nbformat_minor": 5
}
