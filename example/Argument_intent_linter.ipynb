{
 "cells": [
  {
   "cell_type": "markdown",
   "id": "29b239f0",
   "metadata": {},
   "source": [
    "# Argument Intent Linter"
   ]
  },
  {
   "cell_type": "markdown",
   "id": "3e6ef992",
   "metadata": {},
   "source": [
    "The previous notebooks have all focused on using Loki to perform code transformations. Loki can also be used as a Fortran linter. In this notebook, we will use Loki to check whether the declared intent of a subroutine argument is consistent with how that variable is used.\n",
    "\n",
    "Although the notebook is illustrated using very simple code, by the end of it we will have built a program capable of linting IFS code. The finished program can be found in `example/scripts/intent_lint.py`.\n",
    "\n",
    "Let us start by first examining the sample code that we will use to illustrate this notebook:"
   ]
  },
  {
   "cell_type": "code",
   "execution_count": 1,
   "id": "65da8ec9",
   "metadata": {},
   "outputs": [
    {
     "name": "stdout",
     "output_type": "stream",
     "text": [
      "\n",
      "MODULE kernel_mod\n",
      "  USE parkind1, ONLY: jpim, jprb\n",
      "  \n",
      "  IMPLICIT NONE\n",
      "  \n",
      "CONTAINS\n",
      "  SUBROUTINE some_kernel (n, var_out, var_in, var_inout, x, l, h)\n",
      "    \n",
      "    !-------------\n",
      "    !    arguments\n",
      "    !-------------\n",
      "    \n",
      "    INTEGER(KIND=jpim), INTENT(IN) :: n, h, l\n",
      "    \n",
      "    REAL(KIND=jprb), INTENT(IN) :: var_in(n)\n",
      "    REAL(KIND=jprb), INTENT(INOUT) :: var_out(n)\n",
      "    REAL(KIND=jprb), INTENT(IN) :: var_inout(n)\n",
      "    \n",
      "    REAL(KIND=jprb), INTENT(IN) :: x(n)\n",
      "    \n",
      "    !-------------------\n",
      "    !    local variables\n",
      "    !-------------------\n",
      "    \n",
      "    \n",
      "  END SUBROUTINE some_kernel\n",
      "END MODULE kernel_mod\n",
      "\n",
      "SUBROUTINE intent_test (m, n, var_in, var_out, var_inout)\n",
      "  USE parkind1, ONLY: jpim, jprb\n",
      "  USE kernel_mod, ONLY: some_kernel\n",
      "  \n",
      "  IMPLICIT NONE\n",
      "  \n",
      "  !-------------\n",
      "  !    arguments\n",
      "  !-------------\n",
      "  \n",
      "  INTEGER(KIND=jpim), INTENT(IN) :: m, n\n",
      "  \n",
      "  REAL(KIND=jprb), INTENT(IN) :: var_in(n, n, n)\n",
      "  REAL(KIND=jprb), INTENT(OUT) :: var_out(n, n, n)\n",
      "  REAL(KIND=jprb), INTENT(INOUT) :: var_inout(n, n, n)\n",
      "  \n",
      "  !-------------------\n",
      "  !    local variables\n",
      "  !-------------------\n",
      "  \n",
      "  INTEGER(KIND=jpim) :: i, j, k, h, l\n",
      "  \n",
      "  REAL(KIND=jprb), ALLOCATABLE :: x(:), y(:)\n",
      "  \n",
      "  ASSOCIATE (vout=>var_out(n, m, m))\n",
      "  \n",
      "  ALLOCATE (x(n))\n",
      "  ALLOCATE (y(n))\n",
      "  \n",
      "  DO k=1,n\n",
      "    DO j=1,n\n",
      "      \n",
      "      DO i=1,n\n",
      "        var_out(i, j, k) = 2._jprb\n",
      "      END DO\n",
      "      \n",
      "      var_out(m:n, j, k) = var_in(m:n, j, k) + var_inout(m:n, j, k) + var_out(m:n, j, k)\n",
      "      \n",
      "      CALL some_kernel(n, var_out(:, j, k), var_in(:, j, k), var_inout(:, j, k), x, h=10, l=5)\n",
      "      \n",
      "      DO i=1,n\n",
      "        var_inout(i, j, k) = var_out(i, j, k)\n",
      "      END DO\n",
      "      \n",
      "    END DO\n",
      "  END DO\n",
      "  \n",
      "  DEALLOCATE (x)\n",
      "  DEALLOCATE (y)\n",
      "  \n",
      "  END ASSOCIATE\n",
      "  \n",
      "END SUBROUTINE intent_test\n"
     ]
    }
   ],
   "source": [
    "from loki import Sourcefile\n",
    "\n",
    "source = Sourcefile.from_file('src/intent_test.F90')\n",
    "print(source.to_fortran())"
   ]
  },
  {
   "cell_type": "markdown",
   "id": "b365ec21",
   "metadata": {},
   "source": [
    "## Retrieving variable intent"
   ]
  },
  {
   "cell_type": "markdown",
   "id": "71b72f2e",
   "metadata": {},
   "source": [
    "In the Loki IR, variables are stored as symbol nodes with base `class` [`MetaSymbol`](https://sites.ecmwf.int/docs/loki/master/loki.expression.symbols.html#loki.expression.symbols.MetaSymbol) and the `intent` of a variable is stored in the `property` [`MetaSymbol.type`](https://sites.ecmwf.int/docs/loki/master/loki.expression.symbols.html#loki.expression.symbols.MetaSymbol.type).\n",
    "\n",
    "We can list all the declared variables by applying the [`FindVariables`](https://sites.ecmwf.int/docs/loki/master/loki.expression.expression.html?highlight=findvariables#loki.expression.expression.FindVariables) visitor is applied to the specification [`Section`](https://sites.ecmwf.int/docs/loki/master/loki.ir.html#loki.ir.Section) of [`Subroutine`](https://sites.ecmwf.int/docs/loki/master/loki.subroutine.html#loki.subroutine.Subroutine) `'intent_test'`:  "
   ]
  },
  {
   "cell_type": "code",
   "execution_count": 2,
   "id": "3b251eb0",
   "metadata": {},
   "outputs": [
    {
     "name": "stdout",
     "output_type": "stream",
     "text": [
      "vars: h k jpim y(:) x(:) m some_kernel i j jprb n l var_in(n, n, n) var_inout(n, n, n) var_out(n, n, n) \n",
      "\n",
      "in: m n var_in(n, n, n) out: var_out(n, n, n) inout: var_inout(n, n, n)\n"
     ]
    }
   ],
   "source": [
    "from loki import FindVariables\n",
    "\n",
    "routine = source['intent_test']\n",
    "vars = FindVariables().visit(routine.spec)\n",
    "\n",
    "print('vars:',*vars,'\\n')\n",
    "\n",
    "in_vars = []\n",
    "out_vars = []\n",
    "inout_vars = []\n",
    "\n",
    "for i,var in enumerate(vars):\n",
    "    intent = getattr(var.type,\"intent\")\n",
    "\n",
    "    if intent == \"in\":\n",
    "       in_vars.append(var)\n",
    "    elif intent == \"out\":\n",
    "       out_vars.append(var)\n",
    "    elif intent == \"inout\":\n",
    "       inout_vars.append(var)\n",
    "\n",
    "print('in:',*in_vars,'out:',*out_vars,'inout:',*inout_vars)"
   ]
  },
  {
   "cell_type": "markdown",
   "id": "3e984ff6",
   "metadata": {},
   "source": [
    "`intent_test` also contains an [`Associate`](https://sites.ecmwf.int/docs/loki/master/loki.ir.html#loki.ir.Associate) statement that features an `intent(out)` variable on the `rhs`. `vout` should therefore also be added to the list of `intent(out)` variables:"
   ]
  },
  {
   "cell_type": "code",
   "execution_count": 3,
   "id": "210ad3f2",
   "metadata": {},
   "outputs": [
    {
     "name": "stdout",
     "output_type": "stream",
     "text": [
      "expr: vout vars: n m m var_out(n, m, m)\n"
     ]
    }
   ],
   "source": [
    "from loki import FindNodes,Associate\n",
    "\n",
    "assoc = FindNodes(Associate).visit(routine.body)[0]\n",
    "for vars,expr in assoc.associations:\n",
    "    varlist = FindVariables().visit(vars)\n",
    "    print('expr:',expr,'vars:',*varlist)"
   ]
  },
  {
   "cell_type": "markdown",
   "id": "a9d8c85f",
   "metadata": {},
   "source": [
    "In this case, the `FindVariables` visitor also returns the integers `n`,`m`. This could lead to some confusion as to exactly which variables are being associated with the expression `vout`. We will encounter the same issue when an [`Array`](https://sites.ecmwf.int/docs/loki/master/loki.expression.symbols.html#loki.expression.symbols.Array) appears in an [`Assignment`](https://sites.ecmwf.int/docs/loki/master/loki.ir.html#loki.ir.Assignment) expression. This is easily remedied by wrapping a small function around `FindVariables`:"
   ]
  },
  {
   "cell_type": "code",
   "execution_count": 4,
   "id": "2a1de40b",
   "metadata": {},
   "outputs": [
    {
     "name": "stdout",
     "output_type": "stream",
     "text": [
      "expr: vout vars: var_out(n, m, m) \n",
      "\n",
      "out: var_out(n, n, n) vout\n"
     ]
    }
   ],
   "source": [
    "from loki import Array\n",
    "\n",
    "def FindVarsNotDims(o,Return=\"var\"):\n",
    "\n",
    "#   retrieve all variables from expression/node\n",
    "    varlist = FindVariables().visit(o)\n",
    "\n",
    "#   build list of variables that are used as array dimensions\n",
    "    dims = []\n",
    "    for var in varlist:\n",
    "        if isinstance(var,Array):\n",
    "            dims += FindVariables().visit(var.dimensions)\n",
    "\n",
    "#   remove duplicates from dims\n",
    "    dims = list(dict.fromkeys(dims))\n",
    "\n",
    "#   build list of var names that does not include dimensions\n",
    "    if Return == \"var\":\n",
    "        buf = [var for var in varlist if not var in dims]\n",
    "    else:\n",
    "        buf = [var.name for var in varlist if not var in dims]\n",
    "                \n",
    "    return buf\n",
    "\n",
    "for vars,expr in assoc.associations:\n",
    "    varlist = FindVarsNotDims(vars)\n",
    "    print('expr:',expr,'vars:',*varlist,'\\n')\n",
    "    \n",
    "    for var in varlist:\n",
    "        intent = getattr(var.type,\"intent\")\n",
    "    \n",
    "        if intent == \"in\":\n",
    "            in_vars.append(expr)\n",
    "        elif intent == \"out\":\n",
    "            out_vars.append(expr)\n",
    "        elif intent == \"inout\":\n",
    "            inout_vars.append(expr)\n",
    "\n",
    "print('out:',*out_vars)"
   ]
  },
  {
   "cell_type": "markdown",
   "id": "feacf206",
   "metadata": {},
   "source": [
    "## Modifying variable values"
   ]
  },
  {
   "cell_type": "markdown",
   "id": "852fd85d",
   "metadata": {},
   "source": [
    "Putting aside function or subroutine calls for the moment (and also ignoring I/O), there are only two mechanisms for modifying the value of a variable. The obvious one is an [`Assignment`](https://sites.ecmwf.int/docs/loki/master/loki.ir.html#loki.ir.Assignment) statement, where the `rhs` value is assigned to the `lhs` value.\n",
    "\n",
    "Values can also be assigned to a variable by using it as the induction variable of a loop. Although an extremely unusual practice, Fortran compilers do allow dummy arguments of kind `intent(out)` or `intent(inout)`  to be used as the induction variables of a loop. This is however (in my humble opinion) bad coding practice; for ease of readability, local variables rather than arguments should be used as loop induction variables. Therefore in our linter rules, we will forbid the use of variables with declared `intent` as loop induction variables.\n",
    "\n",
    "The next section creates linter rules for checking `intent` consistency within the `Subroutine` body. We will later examine how this can be extended to function calls."
   ]
  },
  {
   "cell_type": "markdown",
   "id": "a4db06cc",
   "metadata": {},
   "source": [
    "## Checking `intent` in `Subroutine` body"
   ]
  },
  {
   "cell_type": "markdown",
   "id": "fec94f1c",
   "metadata": {},
   "source": [
    "Let us first check that variables with declared `intent` are not used as loop induction variables:"
   ]
  },
  {
   "cell_type": "code",
   "execution_count": 5,
   "id": "b9a024c2",
   "metadata": {},
   "outputs": [],
   "source": [
    "from loki import Loop\n",
    "\n",
    "# check that variables with declared intent aren't used as loop induction variable\n",
    "loops = FindNodes(Loop).visit(routine.body)\n",
    "\n",
    "# intialize intent(in) rule checks: all rules must be 'True'\n",
    "in_check = {var:True for var in in_vars}\n",
    "\n",
    "# intialize intent(out) rule checks: all rules must be 'True'\n",
    "out_check = {var:True for var in out_vars}\n",
    "\n",
    "# intialize intent(inout) rule checks: all rules must be 'True'\n",
    "inout_check = {var:True for var in inout_vars}\n",
    "\n",
    "for loop in loops:\n",
    "    if(loop.variable in in_vars):\n",
    "        in_check[loop.variable] = False\n",
    "    if(loop.variable in out_vars):\n",
    "        out_check[loop.variable] = False\n",
    "    if(loop.variable in inout_vars):\n",
    "        inout_check[loop.variable] = False\n",
    "        \n",
    "def rule_check():\n",
    "\n",
    "    #  checking if any rules are broken\n",
    "    for var in in_vars:\n",
    "        if not in_check[var]:\n",
    "            print(f'intent(in) rule broken for {var.name}')\n",
    "    \n",
    "    for var in out_vars:\n",
    "        if not out_check[var]:\n",
    "            print(f'intent(out) rule broken for {var.name}')\n",
    "    \n",
    "    for var in inout_vars:\n",
    "        if not inout_check[var]:\n",
    "            print(f'intent(inout) rule broken for {var.name}')\n",
    "\n",
    "rule_check()"
   ]
  },
  {
   "cell_type": "markdown",
   "id": "42f4e4d1",
   "metadata": {},
   "source": [
    "Having confirmed variables with declared `intent` are not used as loop induction variables, we can now check the [`Assignment`](https://sites.ecmwf.int/docs/loki/master/loki.ir.html#loki.ir.Assignment) statements.\n",
    "\n",
    "For `intent(in)` variables, we don't want their value to be reassigned in the `Subroutine`. Therefore the rule for checking `intent(in)` variables is the simplest: variables of kind `intent(in)` should not appear in the `lhs` of an `Assignment`:"
   ]
  },
  {
   "cell_type": "code",
   "execution_count": 6,
   "id": "b28b2e39",
   "metadata": {},
   "outputs": [],
   "source": [
    "from loki import Assignment\n",
    "\n",
    "# retrieve all the assignment nodes from the IR\n",
    "assigns = FindNodes(Assignment).visit(routine.body)\n",
    "\n",
    "# check that intent(in) vars don't appear on LHS of assignment\n",
    "for var in in_vars:\n",
    "    for assign in assigns:\n",
    "\n",
    "        lhs = FindVarsNotDims(assign.lhs,Return=\"name\")\n",
    "\n",
    "        if var.name in lhs:\n",
    "            in_check[var] = False\n",
    "            break"
   ]
  },
  {
   "cell_type": "markdown",
   "id": "4b0ce1df",
   "metadata": {},
   "source": [
    "In the case of `intent(out)` variables, we are not interested in their value coming in to the `Subroutine`, and we wish to reassign their value during the `Subroutine`. Thus in the first `Assignment` statement in which they appear, `intent(out)` variables should be exclusively on the `lhs`:"
   ]
  },
  {
   "cell_type": "code",
   "execution_count": 7,
   "id": "a62d5f90",
   "metadata": {},
   "outputs": [],
   "source": [
    "# check that first appearance of intent(out) is not on RHS\n",
    "for var in out_vars:\n",
    "    for assign in assigns:\n",
    "\n",
    "        rhs = FindVarsNotDims(assign.rhs,Return=\"name\")\n",
    "        if var.name in rhs:\n",
    "            out_check[var] = False\n",
    "            break\n",
    "\n",
    "        lhs = FindVarsNotDims(assign.lhs,Return=\"name\")\n",
    "        if var.name in lhs:\n",
    "            break"
   ]
  },
  {
   "cell_type": "markdown",
   "id": "ccb50ad2",
   "metadata": {},
   "source": [
    "In principle, we could build similar checks for `intent(inout)` variables. However, the way in which some Fortran compilers treat `allocatable` variables prevents us from doing so.\n",
    "\n",
    "If an `allocatable` array is passed to a subroutine as a dummy argument of kind `intent(out)`, some Fortran compilers will deallocate that array upon exiting the subroutine. This is why in the IFS, data arrays are often declared as `intent(inout)`, even though their true intent is `intent(out)`. An example can be seen in the 'cloudsc-dwarf' in `src/cloudsc_driver_mod.F90`: the `REAL` array `PCOVPTOT` is declared `intent(inout)` even though it's value entering the subroutine is never used.\n",
    "\n",
    "An allocatable array passed as a dummy argument to a subroutine could thus belong to two possible categories:\n",
    "1. A variable that is truly of type `intent(inout)`\n",
    "2. A variable that is strictly of type `intent(out)`, but has been declared `intent(inout)` to avoid deallocation\n",
    "\n",
    "It would be very difficult to discern between the two options from a static analysis of the source code. As such, we will not impose any rules related to `Assignment` expressions for `intent(inout)` variables.\n",
    "\n",
    "We can however impose the rule that an `allocatable` array that is passed as a dummy argument to a subroutine must be of kind `intent(inout)` or `intent(in)`:"
   ]
  },
  {
   "cell_type": "code",
   "execution_count": 8,
   "id": "efa25fc9",
   "metadata": {},
   "outputs": [],
   "source": [
    "from loki import CallStatement,Allocation\n",
    "\n",
    "# retrieve CallStatement node\n",
    "call = FindNodes(CallStatement).visit(routine.body)[0]\n",
    "\n",
    "# retrieve allocation statements\n",
    "allocs = FindNodes(Allocation).visit(routine.body)\n",
    "\n",
    "# build list of allocatable arrays\n",
    "alloc_vars = []\n",
    "for alloc in allocs:\n",
    "    alloc_vars += FindVarsNotDims(alloc.variables,Return=\"name\")\n",
    "\n",
    "# associate Subroutine object with matching call\n",
    "routine.enrich_calls(source['some_kernel'])\n",
    "func = call.context.routine\n",
    "\n",
    "for i,arg in enumerate(func.arguments):\n",
    "    for var in FindVarsNotDims(arg,Return=\"name\"):\n",
    "        if var in alloc_vars:\n",
    "            \n",
    "            if getattr(arg.type,\"intent\") not in ['in','inout']:\n",
    "                print(f'Allocatable {var} has wrong intent in {func} declaration')"
   ]
  },
  {
   "cell_type": "markdown",
   "id": "27f1275c",
   "metadata": {},
   "source": [
    "## Building `intent` map between function caller and callee"
   ]
  },
  {
   "cell_type": "markdown",
   "id": "df378590",
   "metadata": {},
   "source": [
    "Clearly, variables can also be reassigned in a function/subroutine call. Whilst our intent linter can easily be applied recursively to examine the body of every called function, we must also ensure that the declared `intent` of an argument passed to the function is consistent with the declared `intent` of that variable in the calling function.\n",
    "\n",
    "For example, `var_in` is a variable of kind `intent(in)` in `Subroutine` `intent_test`. Therefore `var_in` must not be modified within `intent_test` or any subroutines called by `intent_test`. Therefore in `some_kernel`, `var_in` must also therefore be of kind `intent(in)`. We can thus initialize the mapping for the intent across function calls as follows:"
   ]
  },
  {
   "cell_type": "code",
   "execution_count": 9,
   "id": "0842a97c",
   "metadata": {},
   "outputs": [],
   "source": [
    "intent_map = {\"in\":\"in\"}"
   ]
  },
  {
   "cell_type": "markdown",
   "id": "906ba519",
   "metadata": {},
   "source": [
    "The mapping for `intent(out)` variables is a little more complicated and depends on whether the function call is preceded by an `Assignment` statement featuring the variable in question, and if so, whether it appears in the `lhs` or the `rhs` of the assignment. The procedure for building the mapping is best illustrated using the flowchart below:"
   ]
  },
  {
   "cell_type": "code",
   "execution_count": 10,
   "id": "d795ea6a",
   "metadata": {},
   "outputs": [
    {
     "data": {
      "image/png": "[encoded data removed]",
      "text/plain": [
       "<IPython.core.display.Image object>"
      ]
     },
     "execution_count": 10,
     "metadata": {},
     "output_type": "execute_result"
    }
   ],
   "source": [
    "from IPython.display import Image\n",
    "\n",
    "fig = Image(filename=('gfx/intent_out_map-crop.png'))\n",
    "fig"
   ]
  },
  {
   "cell_type": "markdown",
   "id": "b8d64913",
   "metadata": {},
   "source": [
    "A similar process can be used to determine the mapping for `intent(inout)` variables:"
   ]
  },
  {
   "cell_type": "code",
   "execution_count": 11,
   "id": "bc9b5b41",
   "metadata": {},
   "outputs": [
    {
     "data": {
      "image/png": "[encoded data removed]",
      "text/plain": [
       "<IPython.core.display.Image object>"
      ]
     },
     "execution_count": 11,
     "metadata": {},
     "output_type": "execute_result"
    }
   ],
   "source": [
    "fig = Image(filename=('gfx/intent_inout_map-crop.png'))\n",
    "fig"
   ]
  },
  {
   "cell_type": "markdown",
   "id": "15545c2e",
   "metadata": {},
   "source": [
    "You may be wondering why `intent(out)` has been included as a permitted value for the rightmost tree of the above flowchart. It is to account for the following possibility: an allocatable variables is allocted in subroutine A, and passed as a dummy argument to subroutine B. subroutine B must therefore declare the variable as `intent(inout)`. subroutine C then passes the variable as a dummy argument to subroutine C. In subroutine C, the variable can correctly be of any declared intent."
   ]
  },
  {
   "cell_type": "markdown",
   "id": "a2320a8a",
   "metadata": {},
   "source": [
    "## Checking `intent` consistency across function calls"
   ]
  },
  {
   "cell_type": "markdown",
   "id": "112d9adb",
   "metadata": {},
   "source": [
    "The code below gives an example of how checking the `intent` consistency across function calls can be implemented:"
   ]
  },
  {
   "cell_type": "code",
   "execution_count": 12,
   "id": "ae85e899",
   "metadata": {},
   "outputs": [],
   "source": [
    "from loki import CallStatement\n",
    "\n",
    "calls = FindNodes(CallStatement).visit(routine.body)\n",
    "nodes = FindNodes((CallStatement,Assignment)).visit(routine.body)\n",
    "\n",
    "# read-in all subroutines from loaded sourcefile\n",
    "routines = source.all_subroutines\n",
    "\n",
    "# associate Subroutine object with matching call\n",
    "routine.enrich_calls(routines)\n",
    "\n",
    "# build map of permitted values for intent(in)\n",
    "intent_map = {\"in\":\"in\"}\n",
    "\n",
    "# loop over all function calls\n",
    "for call in calls:\n",
    "\n",
    "#   retrieving subroutine object of function call\n",
    "    if hasattr(call.context,'routine'):\n",
    "        func = call.context.routine\n",
    "    else:\n",
    "        raise Exception(f'matching routine for {call} not found')\n",
    "\n",
    "#   determine intent of all positional arguments\n",
    "    intent = [None]*len(call.arguments+call.kwarguments) \n",
    "    for i,arg in enumerate(call.arguments):\n",
    "\n",
    "        vars = FindVarsNotDims(arg,Return=\"name\")\n",
    "\n",
    "        for var in (in_vars+out_vars+inout_vars):\n",
    "            if var.name in vars:\n",
    "                intent[i] = getattr(var.type,\"intent\")\n",
    "\n",
    "#   determine intent of all keyword arguments\n",
    "    arglen = len(call.arguments)\n",
    "    for i,(arg,value) in enumerate(call.kwarguments):\n",
    "\n",
    "        vars = FindVarsNotDims(arg,Return=\"name\")\n",
    "\n",
    "        for var in (in_vars+out_vars+inout_vars):\n",
    "            if var.name in vars:\n",
    "                intent[i+arglen] = getattr(var.type,\"intent\")\n",
    "\n",
    "#   determine location of function call relative to assignment nodes\n",
    "    call_loc = [count for count,node in enumerate(nodes) if node == call][0]\n",
    "   \n",
    "#   loop over all positional arguments and check intent consistency\n",
    "    for i,arg in enumerate(call.arguments):\n",
    "\n",
    "    #   determine if arg appears in assignment before function call \n",
    "        assign_type = None\n",
    "        for count,node in enumerate(nodes):\n",
    "            if count == call_loc: break\n",
    "\n",
    "            if isinstance(node,Assignment):\n",
    "\n",
    "                lhs = FindVarsNotDims(node.lhs,Return=\"name\")\n",
    "                rhs = FindVarsNotDims(node.rhs,Return=\"name\")\n",
    "\n",
    "                if hasattr(arg,\"name\"):\n",
    "                    if arg.name in lhs: assign_type = \"lhs\"\n",
    "                    if arg.name in rhs: assign_type = \"rhs\"\n",
    "\n",
    "        if intent[i] == \"out\":\n",
    "\n",
    "        #   build map of permitted values for intent(out)\n",
    "            if not assign_type:\n",
    "                intent_map[\"out\"] = \"out\"\n",
    "            elif assign_type == \"lhs\":\n",
    "                intent_map[\"out\"] = [\"in\",\"inout\"]    \n",
    "            else:\n",
    "                intent_map[\"out\"] = [\"in\",\"inout\",\"out\"]    \n",
    "\n",
    "        elif intent[i] == \"inout\":\n",
    "\n",
    "        #   build map of permitted values for intent(inout)\n",
    "            if not assign_type:\n",
    "                intent_map[\"inout\"] = [\"in\",\"inout\",\"out\"]\n",
    "            elif assign_type == \"lhs\":\n",
    "                intent_map[\"inout\"] = [\"in\",\"inout\"]    \n",
    "            else:\n",
    "                intent_map[\"inout\"] = [\"in\",\"inout\",\"out\"]\n",
    "\n",
    "        if intent[i] is not None:\n",
    "            if getattr(func.arguments[i].type,\"intent\") not in intent_map[intent[i]]:   \n",
    "                print(f'Inconsistent intent in {call} for positional arg {arg.name}')\n",
    "                \n",
    "#   loop over all keyword arguments and check intent consistency\n",
    "    for i,(arg,value) in enumerate(call.kwarguments):\n",
    "\n",
    "    #   determine if arg appears in assignment before function call \n",
    "        assign_type = None\n",
    "        for count,node in enumerate(nodes):\n",
    "            if count == call_loc: break\n",
    "\n",
    "            if isinstance(node,Assignment):\n",
    "                lhs = FindVariables().visit(node.lhs)\n",
    "                assign_type = [\"lhs\" for buf in lhs if var.name == buf.name]\n",
    "\n",
    "                rhs = FindVariables().visit(node.rhs)\n",
    "                assign_type = [\"rhs\" for buf in rhs if var.name == buf.name]\n",
    "\n",
    "                if assign_type: assign_type = assign_type[0]\n",
    "\n",
    "        if intent[i+arglen] == \"out\":\n",
    "\n",
    "        #   build map of permitted values for intent(out)\n",
    "            if not assign_type:\n",
    "                intent_map[\"out\"] = \"out\"\n",
    "            elif assign_type == \"lhs\":\n",
    "                intent_map[\"out\"] = [\"in\",\"inout\"]    \n",
    "            else:\n",
    "                intent_map[\"out\"] = [\"in\",\"inout\",\"out\"]    \n",
    "\n",
    "        elif intent[i+arglen] == \"inout\":\n",
    "\n",
    "        #   build map of permitted values for intent(inout)\n",
    "            if not assign_type:\n",
    "                intent_map[\"inout\"] = [\"in\",\"inout\",\"out\"]\n",
    "            elif assign_type == \"lhs\":\n",
    "                intent_map[\"inout\"] = [\"in\",\"inout\"]    \n",
    "            else:\n",
    "                intent_map[\"inout\"] = [\"in\",\"inout\",\"out\"]\n",
    "\n",
    "\n",
    "        #   determine position of keyword argument in subroutine declaration\n",
    "        pos = [pos for pos,dum in enumerate(func.arguments) if arg == dum]\n",
    "        if pos:\n",
    "            pos = pos[0]\n",
    "        else:\n",
    "            raise Exception(f'keyword argument {arg} not found in {func} declaration')\n",
    "\n",
    "        if intent[i+arglen] is not None:\n",
    "            if getattr(func.arguments[pos].type,\"intent\") not in intent_map[intent[i]]:   \n",
    "                print(f'Inconsistent intent in {call} for keyword arg {arg.name}')"
   ]
  },
  {
   "cell_type": "markdown",
   "id": "cb6a716a",
   "metadata": {},
   "source": [
    "## Extending to multiple sourcefiles"
   ]
  },
  {
   "cell_type": "markdown",
   "id": "e2a54162",
   "metadata": {},
   "source": [
    "Our intent linter can easily be extended to multiple source files:"
   ]
  },
  {
   "cell_type": "code",
   "execution_count": 13,
   "id": "e1fffdae",
   "metadata": {},
   "outputs": [
    {
     "name": "stdout",
     "output_type": "stream",
     "text": [
      "read in File :: cloudsc.F90\n",
      "read in File :: cloudsc_driver_mod.F90\n"
     ]
    }
   ],
   "source": [
    "import os,fnmatch\n",
    "\n",
    "files = fnmatch.filter(os.listdir('src/'),'cloudsc*.F90')\n",
    "\n",
    "routines = []\n",
    "for file in files:\n",
    "\n",
    "    print(f'read in File :: {file}')\n",
    "\n",
    "    fnm = 'src/'+file\n",
    "\n",
    "    source  = Sourcefile.from_file(fnm)\n",
    "    routines += source.all_subroutines"
   ]
  },
  {
   "cell_type": "markdown",
   "id": "8bbf28c7",
   "metadata": {},
   "source": [
    "In order to check all the subroutines defined within the files we read-in, we simply place the program written above inside a loop over `routines`. We can also disable checking the intent consistency across calls to auxiliary IFS functions:"
   ]
  },
  {
   "cell_type": "code",
   "execution_count": 14,
   "id": "4b15deb2",
   "metadata": {},
   "outputs": [
    {
     "name": "stdout",
     "output_type": "stream",
     "text": [
      "read in File :: cloudsc.F90\n",
      "read in File :: cloudsc_driver_mod.F90\n",
      "\n",
      "checking Subroutine:: CLOUDSC\n",
      "\n",
      "checking Subroutine:: CLOUDSC_DRIVER\n",
      "Call:: CLOUDSC\n"
     ]
    }
   ],
   "source": [
    "disable = ['TIMER','GET_ENVIRONMENT_VARIABLE','EC_PMON']\n",
    "\n",
    "routines = []\n",
    "for file in files:\n",
    "\n",
    "    print(f'read in File :: {file}')\n",
    "\n",
    "    fnm = 'src/'+file\n",
    "\n",
    "    source  = Sourcefile.from_file(fnm)\n",
    "    routines += source.all_subroutines\n",
    "    \n",
    "print()\n",
    "for routine in routines:\n",
    "    print(f'checking {routine}')\n",
    "        \n",
    "    calls = FindNodes(CallStatement).visit(routine.body)\n",
    "\n",
    "    remove = []\n",
    "    for name in disable:\n",
    "        remove += [call for call in calls if name in call.name]\n",
    "\n",
    "    calls = [call for call in calls if call not in remove]\n",
    "\n",
    "    print(*calls)"
   ]
  },
  {
   "cell_type": "markdown",
   "id": "806ab2c7",
   "metadata": {},
   "source": [
    "The finished program can be found in `scripts/intent_lint.py`. It has been tested on the 'cloudsc-dwarf'."
   ]
  }
 ],
 "metadata": {
  "kernelspec": {
   "display_name": "Python 3 (ipykernel)",
   "language": "python",
   "name": "python3"
  },
  "language_info": {
   "codemirror_mode": {
    "name": "ipython",
    "version": 3
   },
   "file_extension": ".py",
   "mimetype": "text/x-python",
   "name": "python",
   "nbconvert_exporter": "python",
   "pygments_lexer": "ipython3",
   "version": "3.9.13"
  }
 },
 "nbformat": 4,
 "nbformat_minor": 5
}
