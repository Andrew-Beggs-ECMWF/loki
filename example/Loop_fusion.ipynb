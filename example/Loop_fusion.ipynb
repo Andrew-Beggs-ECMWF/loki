{
 "cells": [
  {
   "cell_type": "markdown",
   "id": "eac9ce5b",
   "metadata": {},
   "source": [
    "# Loop fusion with Loki"
   ]
  },
  {
   "cell_type": "markdown",
   "id": "27a3debb",
   "metadata": {},
   "source": [
    "The objective of this notebook is to go through examles of how loop fusion can be performed using Loki. It is a continuation in a series of notebooks, and builds on the lessons of notebooks on [`Reading and writing files with Loki`](https://git.ecmwf.int/projects/RDX/repos/loki/browse/example/01_reading_and_writing_files.ipynb?at=nabr-example-notebooks) and [`Working with Loki's internal representation`](https://git.ecmwf.int/projects/RDX/repos/loki/browse/example/02_working_with_the_ir.ipynb?at=nabr-example-notebooks).\n",
    "\n",
    "Let us start by parsing the file `src/loop_fuse.F90` from the `example` directory:"
   ]
  },
  {
   "cell_type": "code",
   "execution_count": 1,
   "id": "2e5feac7",
   "metadata": {},
   "outputs": [
    {
     "data": {
      "text/plain": [
       "Subroutine:: loop_fuse"
      ]
     },
     "execution_count": 1,
     "metadata": {},
     "output_type": "execute_result"
    }
   ],
   "source": [
    "from loki import Sourcefile\n",
    "source = Sourcefile.from_file('src/loop_fuse.F90')\n",
    "routine = source['loop_fuse']\n",
    "routine"
   ]
  },
  {
   "cell_type": "markdown",
   "id": "32e6430e",
   "metadata": {},
   "source": [
    "The `src/loop_fuse.F90` file starts with an [`Import`](https://sites.ecmwf.int/docs/loki/master/loki.ir.html#loki.ir.Import) statement to load the parameters `jpim` and `jprb`. Even though we have not specified where the [`Module`](https://sites.ecmwf.int/docs/loki/master/loki.module.html#loki.module.Module) `parkind1` is located, Loki is still able to successfully parse the file and treats `jpim` and `jprb` as a [`DeferredTypeSymbol`](https://sites.ecmwf.int/docs/loki/master/loki.expression.symbols.html?highlight=deferredtypesymbol#loki.expression.symbols.DeferredTypeSymbol). We can verify this by examining the specification [`Section`](https://sites.ecmwf.int/docs/loki/master/loki.ir.html#loki.ir.Section) of the [`Subroutine`](https://sites.ecmwf.int/docs/loki/master/loki.subroutine.html#loki.subroutine.Subroutine) `loop_fuse`:"
   ]
  },
  {
   "cell_type": "code",
   "execution_count": 2,
   "id": "b2078568",
   "metadata": {},
   "outputs": [
    {
     "name": "stdout",
     "output_type": "stream",
     "text": [
      "USE parkind1, ONLY: jpim, jprb\n",
      "\n",
      "IMPLICIT NONE\n",
      "\n",
      "!-------------\n",
      "!    arguments\n",
      "!-------------\n",
      "\n",
      "INTEGER(KIND=jpim), INTENT(IN) :: n\n",
      "\n",
      "REAL(KIND=jprb), INTENT(IN) :: var_in(n, n, n)\n",
      "REAL(KIND=jprb), INTENT(OUT) :: var_out(n, n, n)\n",
      "\n",
      "\n",
      "!-------------------\n",
      "!    local variables\n",
      "!-------------------\n",
      "\n",
      "INTEGER(KIND=jpim) :: i, j, k\n"
     ]
    }
   ],
   "source": [
    "from loki import fgen\n",
    "print(fgen(routine.spec))"
   ]
  },
  {
   "cell_type": "code",
   "execution_count": 3,
   "id": "85708bf9",
   "metadata": {},
   "outputs": [
    {
     "name": "stdout",
     "output_type": "stream",
     "text": [
      "<Section::>\n",
      "  <Import:: parkind1 => (DeferredTypeSymbol('jpim', ('scope', Subroutine:: loop_fuse)), \n",
      "  DeferredTypeSymbol('jprb', ('scope', Subroutine:: loop_fuse)))>\n",
      "  <Comment:: >\n",
      "  <Intrinsic:: IMPLICIT NONE>\n",
      "  <CommentBlock:: !------------...>\n",
      "  <VariableDeclaration:: n>\n",
      "  <Comment:: >\n",
      "  <VariableDeclaration:: var_in(n, n, n)>\n",
      "  <VariableDeclaration:: var_out(n, n, n)>\n",
      "  <CommentBlock:: !------------...>\n",
      "  <VariableDeclaration:: i, j, k>"
     ]
    }
   ],
   "source": [
    "routine.spec.view()"
   ]
  },
  {
   "cell_type": "markdown",
   "id": "f7903824",
   "metadata": {},
   "source": [
    "Examining the body [`Section`](https://sites.ecmwf.int/docs/loki/master/loki.ir.html#loki.ir.Section) of `loop_fuse` reveals a nested loop with three levels:"
   ]
  },
  {
   "cell_type": "code",
   "execution_count": 4,
   "id": "48e2c128",
   "metadata": {},
   "outputs": [
    {
     "name": "stdout",
     "output_type": "stream",
     "text": [
      "\n",
      "\n",
      "DO k=1,n\n",
      "  DO j=1,n\n",
      "    \n",
      "    DO i=1,n\n",
      "      var_out(i, j, k) = var_in(i, j, k)\n",
      "    END DO\n",
      "    \n",
      "    DO i=1,n\n",
      "      var_out(i, j, k) = 2._JPRB*var_out(i, j, k)\n",
      "    END DO\n",
      "    \n",
      "  END DO\n",
      "END DO\n",
      "\n"
     ]
    }
   ],
   "source": [
    "print(fgen(routine.body))"
   ]
  },
  {
   "cell_type": "markdown",
   "id": "9cb0d7e0",
   "metadata": {},
   "source": [
    "As a first exercise, let us try to merge all the loops that use `i` as the iteration variable. This will involve using Loki's visitor utilities to traverse, search and manipulate Loki's internal representation ([`IR`](https://sites.ecmwf.int/docs/loki/master/loki.ir.html#module-loki.ir)). If you are unfamiliar with these topics, then a quick read of [`Working with Loki's internal representation`](https://git.ecmwf.int/projects/RDX/repos/loki/browse/example/02_working_with_the_ir.ipynb?at=nabr-example-notebooks) is highly recommended.\n",
    "\n",
    "Let us start by identifying all the instances of [`Loop`](https://sites.ecmwf.int/docs/loki/master/loki.ir.html#loki.ir.Loop) that use `i` as the iteration variable:"
   ]
  },
  {
   "cell_type": "code",
   "execution_count": 5,
   "id": "98ae76b5",
   "metadata": {},
   "outputs": [
    {
     "data": {
      "text/plain": [
       "[Loop:: i=1:n, Loop:: i=1:n]"
      ]
     },
     "execution_count": 5,
     "metadata": {},
     "output_type": "execute_result"
    }
   ],
   "source": [
    "from loki import FindNodes,Loop\n",
    "iloops = [node for node in FindNodes(Loop).visit(routine.body) if node.variable == 'i']\n",
    "iloops"
   ]
  },
  {
   "cell_type": "markdown",
   "id": "9b8c054a",
   "metadata": {},
   "source": [
    "As the output shows, the visitor search correctly identified both loops. Merging these loops comprises of three main steps. The first is to build a new loop that contains the body of both the loops indentified above:"
   ]
  },
  {
   "cell_type": "code",
   "execution_count": 6,
   "id": "d236f472",
   "metadata": {},
   "outputs": [
    {
     "name": "stdout",
     "output_type": "stream",
     "text": [
      "var_out(i, j, k) = var_in(i, j, k)\n",
      "var_out(i, j, k) = 2._JPRB*var_out(i, j, k)\n"
     ]
    }
   ],
   "source": [
    "loop_body = [loop.body for loop in iloops]\n",
    "new_loop = Loop(variable=iloops[0].variable, body=loop_body, bounds=iloops[0].bounds)\n",
    "print(fgen(new_loop.body))"
   ]
  },
  {
   "cell_type": "markdown",
   "id": "91b94218",
   "metadata": {},
   "source": [
    "`new_loop` now contains both the [`Assignment`](https://sites.ecmwf.int/docs/loki/master/loki.ir.html#loki.ir.Assignment) statements of the original `iloops`. The next step is to build a transformation map - a dictionary that maps the original node to its replacement:"
   ]
  },
  {
   "cell_type": "code",
   "execution_count": 7,
   "id": "40214ad6",
   "metadata": {},
   "outputs": [],
   "source": [
    "loop_map = {iloops[0]:new_loop, iloops[1]:None}"
   ]
  },
  {
   "cell_type": "markdown",
   "id": "6a120a02",
   "metadata": {},
   "source": [
    "Since we want to merge two loops into one, the first loop is mapped to `new_loop` and the secone is mapped to `None` i.e. it will be deleted. With the transformation map defined, we can execute the [`Transformer`](https://sites.ecmwf.int/docs/loki/master/loki.visitors.transform.html#loki.visitors.transform.Transformer):"
   ]
  },
  {
   "cell_type": "code",
   "execution_count": 8,
   "id": "5cb5d7c0",
   "metadata": {},
   "outputs": [
    {
     "name": "stdout",
     "output_type": "stream",
     "text": [
      "SUBROUTINE loop_fuse (n, var_in, var_out)\n",
      "  USE parkind1, ONLY: jpim, jprb\n",
      "  \n",
      "  IMPLICIT NONE\n",
      "  \n",
      "  !-------------\n",
      "  !    arguments\n",
      "  !-------------\n",
      "  \n",
      "  INTEGER(KIND=jpim), INTENT(IN) :: n\n",
      "  \n",
      "  REAL(KIND=jprb), INTENT(IN) :: var_in(n, n, n)\n",
      "  REAL(KIND=jprb), INTENT(OUT) :: var_out(n, n, n)\n",
      "  \n",
      "  \n",
      "  !-------------------\n",
      "  !    local variables\n",
      "  !-------------------\n",
      "  \n",
      "  INTEGER(KIND=jpim) :: i, j, k\n",
      "  \n",
      "  \n",
      "  DO k=1,n\n",
      "    DO j=1,n\n",
      "      \n",
      "      DO i=1,n\n",
      "        var_out(i, j, k) = var_in(i, j, k)\n",
      "        var_out(i, j, k) = 2._JPRB*var_out(i, j, k)\n",
      "      END DO\n",
      "      \n",
      "      \n",
      "    END DO\n",
      "  END DO\n",
      "  \n",
      "END SUBROUTINE loop_fuse\n"
     ]
    }
   ],
   "source": [
    "from loki import Transformer\n",
    "routine.body = Transformer(loop_map).visit(routine.body)\n",
    "print(routine.to_fortran())"
   ]
  },
  {
   "cell_type": "markdown",
   "id": "eea4d2ed",
   "metadata": {},
   "source": [
    "Let us now try a more complex loop fusion example:"
   ]
  },
  {
   "cell_type": "code",
   "execution_count": 9,
   "id": "5e1ca42c",
   "metadata": {},
   "outputs": [
    {
     "name": "stdout",
     "output_type": "stream",
     "text": [
      "SUBROUTINE loop_fuse_v1 (n, var_in, var_out)\n",
      "  USE parkind1, ONLY: jpim, jprb\n",
      "  \n",
      "  IMPLICIT NONE\n",
      "  \n",
      "  !-------------\n",
      "  !    arguments\n",
      "  !-------------\n",
      "  \n",
      "  INTEGER(KIND=jpim), INTENT(IN) :: n\n",
      "  \n",
      "  REAL(KIND=jprb), INTENT(IN) :: var_in(n, n, n)\n",
      "  REAL(KIND=jprb), INTENT(OUT) :: var_out(n, n, n)\n",
      "  \n",
      "  \n",
      "  !-------------------\n",
      "  !    local variables\n",
      "  !-------------------\n",
      "  \n",
      "  INTEGER(KIND=jpim) :: i, j, k\n",
      "  \n",
      "  \n",
      "  DO k=1,n\n",
      "    \n",
      "    DO j=1,n\n",
      "      \n",
      "      DO i=1,n\n",
      "        var_out(i, j, k) = var_in(i, j, k)\n",
      "      END DO\n",
      "      \n",
      "      DO i=1,n\n",
      "        var_out(i, j, k) = 2._JPRB*var_out(i, j, k)\n",
      "      END DO\n",
      "      \n",
      "    END DO\n",
      "    \n",
      "    CALL some_kernel(n, var_out(1, 1, k))\n",
      "    \n",
      "    DO j=1,n\n",
      "      \n",
      "      DO i=1,n\n",
      "        var_out(i, j, k) = var_out(i, j, k) + 1._JPRB\n",
      "      END DO\n",
      "      \n",
      "      DO i=1,n\n",
      "        var_out(i, j, k) = 2._JPRB*var_out(i, j, k)\n",
      "      END DO\n",
      "      \n",
      "    END DO\n",
      "    \n",
      "  END DO\n",
      "  \n",
      "END SUBROUTINE loop_fuse_v1\n"
     ]
    }
   ],
   "source": [
    "routine = source['loop_fuse_v1']\n",
    "print(routine.to_fortran())"
   ]
  },
  {
   "cell_type": "markdown",
   "id": "61b39ce5",
   "metadata": {},
   "source": [
    "In `loop_fuse_v1`, there are two `j`-loops separated by a [`CallStatement`](https://sites.ecmwf.int/docs/loki/master/loki.ir.html#loki.ir.CallStatement) to a kernel that modifies `var_out`. Therefore we can only merge the `i`-loops within each `j`-loop.\n",
    "\n",
    "Using the visitor to locate the `i`-loops as was done in the previous example is inappropriate in this case, because it will locate all four `i`-loops:"
   ]
  },
  {
   "cell_type": "code",
   "execution_count": 10,
   "id": "7f81d32d",
   "metadata": {},
   "outputs": [
    {
     "data": {
      "text/plain": [
       "[Loop:: i=1:n, Loop:: i=1:n, Loop:: i=1:n, Loop:: i=1:n]"
      ]
     },
     "execution_count": 10,
     "metadata": {},
     "output_type": "execute_result"
    }
   ],
   "source": [
    "iloops = [node for node in FindNodes(Loop).visit(routine.body) if node.variable == 'i']\n",
    "iloops"
   ]
  },
  {
   "cell_type": "markdown",
   "id": "03c6ae62",
   "metadata": {},
   "source": [
    "Since we know the hierarchy of the loops, we can instead run the visitor on two levels. First to locate the `j`-loops within the [`Subroutine`], and then locate the `i`-loops within the body of each `j`-loop:"
   ]
  },
  {
   "cell_type": "code",
   "execution_count": 11,
   "id": "25e64b2b",
   "metadata": {},
   "outputs": [
    {
     "name": "stdout",
     "output_type": "stream",
     "text": [
      "[Loop:: i=1:n, Loop:: i=1:n]\n",
      "[Loop:: i=1:n, Loop:: i=1:n]\n"
     ]
    }
   ],
   "source": [
    "jloops = [node for node in FindNodes(Loop).visit(routine.body) if node.variable == 'j']\n",
    "for j,loop in enumerate(jloops):\n",
    "    iloops[j] = [node for node in FindNodes(Loop).visit(loop.body) if node.variable == 'i']\n",
    "    print(iloops[j])"
   ]
  },
  {
   "cell_type": "markdown",
   "id": "c013040f",
   "metadata": {},
   "source": [
    "We can now merge the two blocks of `i`-loops:"
   ]
  },
  {
   "cell_type": "code",
   "execution_count": 12,
   "id": "e1257b63",
   "metadata": {},
   "outputs": [
    {
     "name": "stdout",
     "output_type": "stream",
     "text": [
      "SUBROUTINE loop_fuse_v1 (n, var_in, var_out)\n",
      "  USE parkind1, ONLY: jpim, jprb\n",
      "  \n",
      "  IMPLICIT NONE\n",
      "  \n",
      "  !-------------\n",
      "  !    arguments\n",
      "  !-------------\n",
      "  \n",
      "  INTEGER(KIND=jpim), INTENT(IN) :: n\n",
      "  \n",
      "  REAL(KIND=jprb), INTENT(IN) :: var_in(n, n, n)\n",
      "  REAL(KIND=jprb), INTENT(OUT) :: var_out(n, n, n)\n",
      "  \n",
      "  \n",
      "  !-------------------\n",
      "  !    local variables\n",
      "  !-------------------\n",
      "  \n",
      "  INTEGER(KIND=jpim) :: i, j, k\n",
      "  \n",
      "  \n",
      "  DO k=1,n\n",
      "    \n",
      "    DO j=1,n\n",
      "      \n",
      "      DO i=1,n\n",
      "        var_out(i, j, k) = var_in(i, j, k)\n",
      "        var_out(i, j, k) = 2._JPRB*var_out(i, j, k)\n",
      "      END DO\n",
      "      \n",
      "      \n",
      "    END DO\n",
      "    \n",
      "    CALL some_kernel(n, var_out(1, 1, k))\n",
      "    \n",
      "    DO j=1,n\n",
      "      \n",
      "      DO i=1,n\n",
      "        var_out(i, j, k) = var_out(i, j, k) + 1._JPRB\n",
      "        var_out(i, j, k) = 2._JPRB*var_out(i, j, k)\n",
      "      END DO\n",
      "      \n",
      "      \n",
      "    END DO\n",
      "    \n",
      "  END DO\n",
      "  \n",
      "END SUBROUTINE loop_fuse_v1\n"
     ]
    }
   ],
   "source": [
    "loop_map = {}\n",
    "for k in range(2):\n",
    "    loop_body = [loop.body for loop in iloops[k]]\n",
    "    new_loop = Loop(variable=iloops[k][0].variable, body=loop_body, bounds=iloops[k][0].bounds)\n",
    "    loop_map.update({iloops[k][0]:new_loop, iloops[k][1]:None})\n",
    "routine.body = Transformer(loop_map).visit(routine.body)\n",
    "print(routine.to_fortran())"
   ]
  },
  {
   "cell_type": "markdown",
   "id": "9005ba3c",
   "metadata": {},
   "source": [
    "In `loop_fuse_v1`, identifying the two blocks of `i`-loops was relatively straightforward because they were nested in different `j`-loops. Let us now try an example where all the `i`-loops and the kernel call are within the same `j`-loop:"
   ]
  },
  {
   "cell_type": "code",
   "execution_count": 13,
   "id": "aece6f3d",
   "metadata": {},
   "outputs": [
    {
     "name": "stdout",
     "output_type": "stream",
     "text": [
      "SUBROUTINE loop_fuse_v2 (n, var_in, var_out)\n",
      "  USE parkind1, ONLY: jpim, jprb\n",
      "  \n",
      "  IMPLICIT NONE\n",
      "  \n",
      "  !-------------\n",
      "  !    arguments\n",
      "  !-------------\n",
      "  \n",
      "  INTEGER(KIND=jpim), INTENT(IN) :: n\n",
      "  \n",
      "  REAL(KIND=jprb), INTENT(IN) :: var_in(n, n, n)\n",
      "  REAL(KIND=jprb), INTENT(OUT) :: var_out(n, n, n)\n",
      "  \n",
      "  \n",
      "  !-------------------\n",
      "  !    local variables\n",
      "  !-------------------\n",
      "  \n",
      "  INTEGER(KIND=jpim) :: i, j, k\n",
      "  \n",
      "  \n",
      "  DO k=1,n\n",
      "    DO j=1,n\n",
      "      \n",
      "      DO i=1,n\n",
      "        var_out(i, j, k) = var_in(i, j, k)\n",
      "      END DO\n",
      "      \n",
      "      DO i=1,n\n",
      "        var_out(i, j, k) = 2._JPRB*var_out(i, j, k)\n",
      "      END DO\n",
      "      \n",
      "      CALL some_kernel(n, var_out(1, j, k))\n",
      "      \n",
      "      DO i=1,n\n",
      "        var_out(i, j, k) = var_out(i, j, k) + 1._JPRB\n",
      "      END DO\n",
      "      \n",
      "      DO i=1,n\n",
      "        var_out(i, j, k) = 2._JPRB*var_out(i, j, k)\n",
      "      END DO\n",
      "      \n",
      "      \n",
      "    END DO\n",
      "  END DO\n",
      "  \n",
      "END SUBROUTINE loop_fuse_v2\n"
     ]
    }
   ],
   "source": [
    "routine = source['loop_fuse_v2']\n",
    "print(routine.to_fortran())"
   ]
  },
  {
   "cell_type": "markdown",
   "id": "5f9c763e",
   "metadata": {},
   "source": [
    "In `loop_fuse_v2`, the two blocks of `i`-loops are separated by a [`CallStatement`](https://sites.ecmwf.int/docs/loki/master/loki.ir.html#loki.ir.CallStatement) to a kernel that modifies `var_out`. Therefore whilst we can merge the loops before and after the kernel call, we cannot merge across it.\n",
    "\n",
    "The [`FindNodes`](https://sites.ecmwf.int/docs/loki/master/loki.visitors.find.html#loki.visitors.find.FindNodes) visitor we used previously returns an ordered list of nodes that match a specified type. Previously we only searched for nodes of type [`Loop`](https://sites.ecmwf.int/docs/loki/master/loki.ir.html#loki.ir.Loop). We can easily extend this to also search for [`CallStatement`](https://sites.ecmwf.int/docs/loki/master/loki.ir.html#loki.ir.CallStatement) by passing both node-types as a tuple when initializing the visitor:"
   ]
  },
  {
   "cell_type": "code",
   "execution_count": 14,
   "id": "ddf60a6a",
   "metadata": {},
   "outputs": [
    {
     "data": {
      "text/plain": [
       "[Loop:: k=1:n,\n",
       " Loop:: j=1:n,\n",
       " Loop:: i=1:n,\n",
       " Loop:: i=1:n,\n",
       " Call:: some_kernel,\n",
       " Loop:: i=1:n,\n",
       " Loop:: i=1:n]"
      ]
     },
     "execution_count": 14,
     "metadata": {},
     "output_type": "execute_result"
    }
   ],
   "source": [
    "from loki import CallStatement\n",
    "nodes = FindNodes((CallStatement,Loop)).visit(routine.body)\n",
    "nodes"
   ]
  },
  {
   "cell_type": "markdown",
   "id": "bb60a77b",
   "metadata": {},
   "source": [
    "`nodes` now contains an ordered list of the loops and the kernel call, and can be used to identify the loops that appear before and after the kernel call:"
   ]
  },
  {
   "cell_type": "code",
   "execution_count": 15,
   "id": "eec8d2b2",
   "metadata": {},
   "outputs": [],
   "source": [
    "call_loc = [count for count,node in enumerate(nodes) if isinstance(node,CallStatement)][0]\n",
    "iloops[0] = [node for node in nodes[:call_loc] if node.variable == 'i']\n",
    "iloops[1] = [node for node in nodes[(call_loc+1):] if node.variable == 'i']"
   ]
  },
  {
   "cell_type": "markdown",
   "id": "737c3769",
   "metadata": {},
   "source": [
    "We can now fuse the two blocks of `i`-loops:"
   ]
  },
  {
   "cell_type": "code",
   "execution_count": 16,
   "id": "7b751473",
   "metadata": {
    "scrolled": false
   },
   "outputs": [
    {
     "name": "stdout",
     "output_type": "stream",
     "text": [
      "SUBROUTINE loop_fuse_v2 (n, var_in, var_out)\n",
      "  USE parkind1, ONLY: jpim, jprb\n",
      "  \n",
      "  IMPLICIT NONE\n",
      "  \n",
      "  !-------------\n",
      "  !    arguments\n",
      "  !-------------\n",
      "  \n",
      "  INTEGER(KIND=jpim), INTENT(IN) :: n\n",
      "  \n",
      "  REAL(KIND=jprb), INTENT(IN) :: var_in(n, n, n)\n",
      "  REAL(KIND=jprb), INTENT(OUT) :: var_out(n, n, n)\n",
      "  \n",
      "  \n",
      "  !-------------------\n",
      "  !    local variables\n",
      "  !-------------------\n",
      "  \n",
      "  INTEGER(KIND=jpim) :: i, j, k\n",
      "  \n",
      "  \n",
      "  DO k=1,n\n",
      "    DO j=1,n\n",
      "      \n",
      "      DO i=1,n\n",
      "        var_out(i, j, k) = var_in(i, j, k)\n",
      "        var_out(i, j, k) = 2._JPRB*var_out(i, j, k)\n",
      "      END DO\n",
      "      \n",
      "      \n",
      "      CALL some_kernel(n, var_out(1, j, k))\n",
      "      \n",
      "      DO i=1,n\n",
      "        var_out(i, j, k) = var_out(i, j, k) + 1._JPRB\n",
      "        var_out(i, j, k) = 2._JPRB*var_out(i, j, k)\n",
      "      END DO\n",
      "      \n",
      "      \n",
      "      \n",
      "    END DO\n",
      "  END DO\n",
      "  \n",
      "END SUBROUTINE loop_fuse_v2\n"
     ]
    }
   ],
   "source": [
    "loop_map = {}\n",
    "for k in range(2):\n",
    "    loop_body = [loop.body for loop in iloops[k]]\n",
    "    new_loop = Loop(variable=iloops[k][0].variable, body=loop_body, bounds=iloops[k][0].bounds)\n",
    "    loop_map.update({iloops[k][0]:new_loop, iloops[k][1]:None})\n",
    "routine.body = Transformer(loop_map).visit(routine.body)\n",
    "print(routine.to_fortran())"
   ]
  },
  {
   "cell_type": "markdown",
   "id": "5a91b698",
   "metadata": {},
   "source": [
    "Another way of identifying loops for fusion is to mark them using `!$loki` pragmas: "
   ]
  },
  {
   "cell_type": "code",
   "execution_count": 17,
   "id": "c79326a9",
   "metadata": {},
   "outputs": [
    {
     "name": "stdout",
     "output_type": "stream",
     "text": [
      "SUBROUTINE loop_fuse_pragma (n, var_in, var_out)\n",
      "  USE parkind1, ONLY: jpim, jprb\n",
      "  \n",
      "  IMPLICIT NONE\n",
      "  \n",
      "  !-------------\n",
      "  !    arguments\n",
      "  !-------------\n",
      "  \n",
      "  INTEGER(KIND=jpim), INTENT(IN) :: n\n",
      "  \n",
      "  REAL(KIND=jprb), INTENT(IN) :: var_in(n, n, n)\n",
      "  REAL(KIND=jprb), INTENT(OUT) :: var_out(n, n, n)\n",
      "  \n",
      "  \n",
      "  !-------------------\n",
      "  !    local variables\n",
      "  !-------------------\n",
      "  \n",
      "  INTEGER(KIND=jpim) :: i, j, k\n",
      "  \n",
      "  \n",
      "  DO k=1,n\n",
      "    DO j=1,n\n",
      "      \n",
      "!$loki loop-fusion group( g1 )\n",
      "      DO i=1,n\n",
      "        var_out(i, j, k) = var_in(i, j, k)\n",
      "      END DO\n",
      "      \n",
      "!$loki loop-fusion group( g1 )\n",
      "      DO i=1,n\n",
      "        var_out(i, j, k) = 2._JPRB*var_out(i, j, k)\n",
      "      END DO\n",
      "      \n",
      "      CALL some_kernel(n, var_out(1, j, k))\n",
      "      \n",
      "!$loki loop-fusion group( g2 )\n",
      "      DO i=1,n\n",
      "        var_out(i, j, k) = var_out(i, j, k) + 1._JPRB\n",
      "      END DO\n",
      "      \n",
      "!$loki loop-fusion group( g2 )\n",
      "      DO i=1,n\n",
      "        var_out(i, j, k) = 2._JPRB*var_out(i, j, k)\n",
      "      END DO\n",
      "      \n",
      "      \n",
      "    END DO\n",
      "  END DO\n",
      "  \n",
      "END SUBROUTINE loop_fuse_pragma\n"
     ]
    }
   ],
   "source": [
    "routine = source['loop_fuse_pragma']\n",
    "print(routine.to_fortran())"
   ]
  },
  {
   "cell_type": "markdown",
   "id": "99e6b49a",
   "metadata": {},
   "source": [
    "The routine `loop_fuse_pragma` is identical to `loop_fuse_v2` except for the `i`-loops being preceded by `!$loki loop-fusion` pragmas. The loops that are candidates for fusion have been assigned to the same group i.e. `g1` or `g2`. Examining the body of `loop_fuse_pragma` reveals the following:"
   ]
  },
  {
   "cell_type": "code",
   "execution_count": 18,
   "id": "cccf8d6a",
   "metadata": {},
   "outputs": [
    {
     "name": "stdout",
     "output_type": "stream",
     "text": [
      "<Section::>\n",
      "  <CommentBlock:: >\n",
      "  <Loop:: k=1:n>\n",
      "    <Loop:: j=1:n>\n",
      "      <Comment:: >\n",
      "      <Pragma:: loki loop-fusion g...>\n",
      "      <Loop:: i=1:n>\n",
      "        <Assignment:: var_out(i, j, k) = var_in(i, j, k)>\n",
      "      <Comment:: >\n",
      "      <Pragma:: loki loop-fusion g...>\n",
      "      <Loop:: i=1:n>\n",
      "        <Assignment:: var_out(i, j, k) = 2._JPRB*var_out(i, j, k)>\n",
      "      <Comment:: >\n",
      "      <Call:: some_kernel>\n",
      "      <Comment:: >\n",
      "      <Pragma:: loki loop-fusion g...>\n",
      "      <Loop:: i=1:n>\n",
      "        <Assignment:: var_out(i, j, k) = var_out(i, j, k) + 1._JPRB>\n",
      "      <Comment:: >\n",
      "      <Pragma:: loki loop-fusion g...>\n",
      "      <Loop:: i=1:n>\n",
      "        <Assignment:: var_out(i, j, k) = 2._JPRB*var_out(i, j, k)>\n",
      "      <CommentBlock:: >\n",
      "  <Comment:: >"
     ]
    }
   ],
   "source": [
    "routine.body.view()"
   ]
  },
  {
   "cell_type": "markdown",
   "id": "aab07764",
   "metadata": {},
   "source": [
    "The `!$loki loop-fusion` pragmas appear as separate [`Pragma`](https://sites.ecmwf.int/docs/loki/master/loki.ir.html#loki.ir.Pragma) nodes in the IR of `loop_fuse_pragma`. For convenience, let us use [`attach_pragmas`](https://sites.ecmwf.int/docs/loki/master/loki.pragma_utils.html#loki.pragma_utils.attach_pragmas) to make them a property of their respective [`Loop`](https://sites.ecmwf.int/docs/loki/master/loki.ir.html#loki.ir.Loop) nodes: "
   ]
  },
  {
   "cell_type": "code",
   "execution_count": 19,
   "id": "88a095e5",
   "metadata": {},
   "outputs": [],
   "source": [
    "from loki.pragma_utils import attach_pragmas\n",
    "routine.body = attach_pragmas(routine.body,Loop)"
   ]
  },
  {
   "cell_type": "markdown",
   "id": "a815bcea",
   "metadata": {},
   "source": [
    "The pragmas now no longer appear as seperate nodes in the IR of `loop_fuse_pragma`:"
   ]
  },
  {
   "cell_type": "code",
   "execution_count": 20,
   "id": "764e7a56",
   "metadata": {},
   "outputs": [
    {
     "name": "stdout",
     "output_type": "stream",
     "text": [
      "<Section::>\n",
      "  <CommentBlock:: >\n",
      "  <Loop:: k=1:n>\n",
      "    <Loop:: j=1:n>\n",
      "      <Comment:: >\n",
      "      <Loop:: i=1:n>\n",
      "        <Assignment:: var_out(i, j, k) = var_in(i, j, k)>\n",
      "      <Comment:: >\n",
      "      <Loop:: i=1:n>\n",
      "        <Assignment:: var_out(i, j, k) = 2._JPRB*var_out(i, j, k)>\n",
      "      <Comment:: >\n",
      "      <Call:: some_kernel>\n",
      "      <Comment:: >\n",
      "      <Loop:: i=1:n>\n",
      "        <Assignment:: var_out(i, j, k) = var_out(i, j, k) + 1._JPRB>\n",
      "      <Comment:: >\n",
      "      <Loop:: i=1:n>\n",
      "        <Assignment:: var_out(i, j, k) = 2._JPRB*var_out(i, j, k)>\n",
      "      <CommentBlock:: >\n",
      "  <Comment:: >"
     ]
    }
   ],
   "source": [
    "routine.body.view()"
   ]
  },
  {
   "cell_type": "markdown",
   "id": "2e768ca6",
   "metadata": {},
   "source": [
    "We can now visit the loops and sort them into their respective fusion groups:"
   ]
  },
  {
   "cell_type": "code",
   "execution_count": 21,
   "id": "16c23deb",
   "metadata": {},
   "outputs": [
    {
     "name": "stdout",
     "output_type": "stream",
     "text": [
      "defaultdict(<class 'list'>, {'g1': [Loop:: i=1:n, Loop:: i=1:n], 'g2': [Loop:: i=1:n, Loop:: i=1:n]})\n"
     ]
    }
   ],
   "source": [
    "from loki.pragma_utils import is_loki_pragma,get_pragma_parameters\n",
    "from collections import defaultdict\n",
    "\n",
    "fusion_groups = defaultdict(list)\n",
    "for loop in FindNodes(Loop).visit(routine.body):\n",
    "    if is_loki_pragma(loop.pragma, starts_with='loop-fusion'):                         \n",
    "        parameters = get_pragma_parameters(loop.pragma, starts_with='loop-fusion')\n",
    "        group = parameters.get('group','default')\n",
    "        fusion_groups[group] += [loop]\n",
    "\n",
    "print(fusion_groups)"
   ]
  },
  {
   "cell_type": "markdown",
   "id": "4e327326",
   "metadata": {},
   "source": [
    "`fusion_groups` is now a dictionary with two entries, in which the key is the name given to each fusion group and the value is a list of associated `Loop` nodes. We can now create and apply a transformation map similar to how it was done in the previous examples:"
   ]
  },
  {
   "cell_type": "code",
   "execution_count": 22,
   "id": "625d0640",
   "metadata": {},
   "outputs": [
    {
     "name": "stdout",
     "output_type": "stream",
     "text": [
      "SUBROUTINE loop_fuse_pragma (n, var_in, var_out)\n",
      "  USE parkind1, ONLY: jpim, jprb\n",
      "  \n",
      "  IMPLICIT NONE\n",
      "  \n",
      "  !-------------\n",
      "  !    arguments\n",
      "  !-------------\n",
      "  \n",
      "  INTEGER(KIND=jpim), INTENT(IN) :: n\n",
      "  \n",
      "  REAL(KIND=jprb), INTENT(IN) :: var_in(n, n, n)\n",
      "  REAL(KIND=jprb), INTENT(OUT) :: var_out(n, n, n)\n",
      "  \n",
      "  \n",
      "  !-------------------\n",
      "  !    local variables\n",
      "  !-------------------\n",
      "  \n",
      "  INTEGER(KIND=jpim) :: i, j, k\n",
      "  \n",
      "  \n",
      "  DO k=1,n\n",
      "    DO j=1,n\n",
      "      \n",
      "      DO i=1,n\n",
      "        var_out(i, j, k) = var_in(i, j, k)\n",
      "        var_out(i, j, k) = 2._JPRB*var_out(i, j, k)\n",
      "      END DO\n",
      "      \n",
      "      \n",
      "      CALL some_kernel(n, var_out(1, j, k))\n",
      "      \n",
      "      DO i=1,n\n",
      "        var_out(i, j, k) = var_out(i, j, k) + 1._JPRB\n",
      "        var_out(i, j, k) = 2._JPRB*var_out(i, j, k)\n",
      "      END DO\n",
      "      \n",
      "      \n",
      "      \n",
      "    END DO\n",
      "  END DO\n",
      "  \n",
      "END SUBROUTINE loop_fuse_pragma\n"
     ]
    }
   ],
   "source": [
    "loop_map = {}\n",
    "for k,group in enumerate(fusion_groups):\n",
    "    loop_body = [loop.body for loop in fusion_groups[group]]\n",
    "    new_loop = Loop(variable=fusion_groups[group][0].variable, body=loop_body, bounds=fusion_groups[group][0].bounds)\n",
    "    loop_map.update({fusion_groups[group][0]:new_loop, fusion_groups[group][1]:None})\n",
    "routine.body = Transformer(loop_map).visit(routine.body)\n",
    "print(routine.to_fortran())    "
   ]
  },
  {
   "cell_type": "markdown",
   "id": "7aaa83ef",
   "metadata": {},
   "source": [
    "The modified code does not have any of the `!$loki` pragmas. This is not a problem, since `!$loki` pragmas are only intended to pass instructions/hints to Loki on source manipulations, and aren't needed for the eventual compilation. If the routine however contains OpenMP (`!$omp`) or other compiler (`!$dir`) directives that need to be included in the modified source code, they can be retained by modifying the call to the `Loop` constructor as follows:"
   ]
  },
  {
   "cell_type": "code",
   "execution_count": 23,
   "id": "b05c7c5c",
   "metadata": {},
   "outputs": [],
   "source": [
    "new_loop = Loop(variable=fusion_groups[group][0].variable, body=loop_body, bounds=fusion_groups[group][0].bounds, pragma=fusion_groups[group][0].pragma)"
   ]
  }
 ],
 "metadata": {
  "kernelspec": {
   "display_name": "Python 3 (ipykernel)",
   "language": "python",
   "name": "python3"
  },
  "language_info": {
   "codemirror_mode": {
    "name": "ipython",
    "version": 3
   },
   "file_extension": ".py",
   "mimetype": "text/x-python",
   "name": "python",
   "nbconvert_exporter": "python",
   "pygments_lexer": "ipython3",
   "version": "3.9.13"
  }
 },
 "nbformat": 4,
 "nbformat_minor": 5
}
